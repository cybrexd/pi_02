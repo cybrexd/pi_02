{
 "cells": [
  {
   "cell_type": "code",
   "execution_count": 187,
   "metadata": {},
   "outputs": [],
   "source": [
    "# Se importan las librerias Necesarias\n",
    "import pandas as pd\n",
    "import numpy as np\n",
    "import geopy\n",
    "import pandas as pd\n",
    "from geopy.geocoders import Nominatim\n",
    "from sklearn import linear_model\n",
    "geopy.geocoders.options.default_user_agent = \"my-application\""
   ]
  },
  {
   "cell_type": "markdown",
   "metadata": {},
   "source": [
    "#La Etapa nro 1 consta de Seleccionar los datos mas relevantes para nuestro modelo, limpiarlos y rellenarlos con los datos faltantes"
   ]
  },
  {
   "cell_type": "code",
   "execution_count": 188,
   "metadata": {},
   "outputs": [],
   "source": [
    "#Se importa el Dataset (\"properties_colombia_test.csv\") a un dataframe utilizando pandas\n",
    "df = pd.read_csv(\"properties_colombia_train.csv\")"
   ]
  },
  {
   "cell_type": "code",
   "execution_count": 189,
   "metadata": {},
   "outputs": [],
   "source": [
    "#Utilizando como criterio valor la media de la variable price, categorizamos las propiedades entre baratas (0)\n",
    "# Y caras (1) creando la columna target \n",
    "\n",
    "promedio = df[\"price\"].mean()\n",
    "df[\"target\"] = [1 if x > promedio else 0 for x in df[\"price\"]]"
   ]
  },
  {
   "cell_type": "code",
   "execution_count": 190,
   "metadata": {},
   "outputs": [],
   "source": [
    "#Se elimina la columna price dado que ya tenemos categorizadas las propiedas con el target\n",
    "\n",
    "df= df.drop(\"price\",axis=1)"
   ]
  },
  {
   "cell_type": "code",
   "execution_count": 191,
   "metadata": {},
   "outputs": [],
   "source": [
    "#Eliminamos otras  columnas que no aportan datos de calidad al modelo o que son redundantes con otras columnas\n",
    "\n",
    "df = df.drop([\"ad_type\",\"operation_type\",\"l1\",\"l4\",\"l5\",\"l6\",\"currency\",\"id\",\"created_on\",\"surface_total\",\"price_period\",\"geometry\",\"start_date\",\"Unnamed: 0\"],axis=1)"
   ]
  },
  {
   "cell_type": "code",
   "execution_count": 192,
   "metadata": {},
   "outputs": [],
   "source": [
    "#Corregimos errores de la columna End_date\n",
    "df[\"end_date\"] = df[\"end_date\"].replace(\"9999-12-31\", \"2020-12-31\")"
   ]
  },
  {
   "cell_type": "code",
   "execution_count": 193,
   "metadata": {},
   "outputs": [],
   "source": [
    "#Completamos los campos faltantes de latitudes y longitudes (lat,lon) utilizando las ubicaciones provistas en las columnas de localizacion \n",
    "#Haciendo Uso de la herramiento GeoPY \n",
    "\n",
    "geolocator = Nominatim(user_agent=\"elpepp51@gmail.com\")\n",
    "def completar_Latitud(x):\n",
    "    if pd.isnull(x[\"lat\"]):\n",
    "        location1 = geolocator.geocode(str(x[\"l2\"]) + \",\" + str(x[\"l3\"]))\n",
    "        latitud = location1.latitude\n",
    "        return(latitud)\n",
    "    else:\n",
    "        return(x[\"lat\"])\n",
    "\n",
    "def completar_longitud(x):\n",
    "    if pd.isnull(x[\"lon\"]):\n",
    "        location1 = geolocator.geocode(str(x[\"l2\"]) + \",\" + str(x[\"l3\"]))\n",
    "        longitud = location1.longitude\n",
    "        return(longitud)\n",
    "    else:\n",
    "        return(x[\"lon\"])\n",
    "\n",
    "def completar_lonlati(columna):\n",
    "    if pd.isnull(columna):\n",
    "        resultado = columna.mean()\n",
    "        return(resultado)\n",
    "    else:\n",
    "        return(columna)\n",
    "        \n",
    "mean_value = df[\"lat\"].mean()\n",
    "df[\"lat\"].fillna(value=mean_value,inplace=True)\n",
    "mean_value2 = df[\"lon\"].mean()\n",
    "df[\"lon\"].fillna(value=mean_value2,inplace=True)\n"
   ]
  },
  {
   "cell_type": "code",
   "execution_count": 194,
   "metadata": {},
   "outputs": [],
   "source": [
    "# Rellenamos Valores Faltantes de las columnas Room, Bedroom y Bathroom\n",
    "\n",
    "mean_value = df[\"rooms\"].mean()\n",
    "df[\"rooms\"].fillna(value=mean_value,inplace=True)\n",
    "mean_value2 = df[\"bathrooms\"].mean()\n",
    "df[\"bathrooms\"].fillna(value=mean_value2,inplace=True)\n",
    "mean_value3 = df[\"bedrooms\"].mean()\n",
    "df[\"bedrooms\"].fillna(value=mean_value3,inplace=True)\n",
    "df[\"l3\"].fillna(value=\"otro\",inplace=True)\n",
    "\n",
    "\n"
   ]
  },
  {
   "cell_type": "code",
   "execution_count": 195,
   "metadata": {},
   "outputs": [],
   "source": [
    "#Rellenamos los valores de surfaced_covered utilizando como referencia la descripcion de la propiedad\n",
    "formatos = [\"mt2\",\"m2\",\"mt\",\"mts\",\"MTS\",\"MT\",\"METROS\",\"M2\",\"MT2\",\"mts2\",\"metros\"]\n",
    "def rellenar_metros(x):\n",
    "    if pd.isnull(x[\"surface_covered\"]):\n",
    "        string = x[\"description\"]\n",
    "        condition = False\n",
    "        for element in formatos:\n",
    "               if type(string) != str:\n",
    "                    break\n",
    "               else:\n",
    "                    if string.find(element) != -1:\n",
    "                     string.find(element)\n",
    "                     condition = True\n",
    "                     break\n",
    "        if condition == True:\n",
    "\n",
    "            mtrs = string[string.find(element)-3:string.find(element)]\n",
    "            mtrs = mtrs.replace(\" \",\"\")\n",
    "            if mtrs.isdigit():\n",
    "                if mtrs == \"0.00\" or mtrs == \"0.0\" or 0 or 0.00 or \"00.0\" or \"0\":\n",
    "                    mtrs = 50\n",
    "                mtrs = int(mtrs)\n",
    "                return(mtrs)\n",
    "            else:\n",
    "                return(x[\"surface_covered\"])\n",
    "        else:\n",
    "            return(x[\"surface_covered\"])\n",
    "    else:\n",
    "        return(x[\"surface_covered\"])\n",
    "\n",
    "df[\"surface_covered\"] = df.apply(rellenar_metros,axis=1)\n",
    "\n",
    "mean_value4 = df[\"surface_covered\"].mean()\n",
    "df[\"surface_covered\"].fillna(value=mean_value4,inplace=True)\n",
    "\n",
    "df = df.drop([\"title\",\"description\"],axis=1)"
   ]
  },
  {
   "cell_type": "markdown",
   "metadata": {},
   "source": [
    "#En la Etapa Nro 2 normalizamos todas las columnas Codificando todos los No-Numericos a Numericos para que pueda aplicarse el Modelo de ML, Ademas los Datos que ya son numericos son convertidos al mismo Tipo de Dato."
   ]
  },
  {
   "cell_type": "code",
   "execution_count": 196,
   "metadata": {},
   "outputs": [],
   "source": [
    "#Utilizando la herramienta Lebel Encoding de la libreria scikit learn, codificamos utilizando etiquetas numericas a los datos no numericos\n",
    "#Esta es la mejor opcion de codificado en este caso debido al gran numero de datos categoricos que tenemos\n",
    "from sklearn import preprocessing\n",
    "\n",
    "le = preprocessing.LabelEncoder()\n",
    "df[\"end_date\"] = le.fit_transform(df[\"end_date\"])\n",
    "df[\"l2\"] = le.fit_transform(df[\"l2\"])\n",
    "df[\"l3\"] = le.fit_transform(df[\"l3\"])\n",
    "df[\"property_type\"] = le.fit_transform(df[\"property_type\"])\n"
   ]
  },
  {
   "cell_type": "code",
   "execution_count": 197,
   "metadata": {},
   "outputs": [],
   "source": [
    "#Convertimos Todos los Float a int \n",
    "\n",
    "df = df.astype(int)"
   ]
  },
  {
   "cell_type": "code",
   "execution_count": 198,
   "metadata": {},
   "outputs": [],
   "source": [
    "#Por ultimo cargamos el dataset de Test (\"properties_colombia_test.csv\") como hicimos con el Train y le realizamos exactamente los mismos procesos y\n",
    "#modificaciones (exceptuando lo realizado en la columna Price)\n",
    "\n",
    "df_test = pd.read_csv(\"properties_colombia_test.csv\")\n",
    "\n",
    "df_test.head()\n",
    "df_test = df_test.drop([\"ad_type\",\"operation_type\",\"l1\",\"l4\",\"l5\",\"l6\",\"currency\",\"id\",\"created_on\",\"surface_total\",\"price_period\",\"geometry\",\"start_date\",\"Unnamed: 0\"],axis=1)\n",
    "df_test[\"end_date\"] = df_test[\"end_date\"].replace(\"9999-12-31\", \"2020-12-31\")\n",
    "mean_value = df_test[\"lat\"].mean()\n",
    "df_test[\"lat\"].fillna(value=mean_value,inplace=True)\n",
    "mean_value2 = df_test[\"lon\"].mean()\n",
    "df_test[\"lon\"].fillna(value=mean_value2,inplace=True)\n",
    "mean_value = df_test[\"rooms\"].mean()\n",
    "df_test[\"rooms\"].fillna(value=mean_value,inplace=True)\n",
    "mean_value2 = df_test[\"bathrooms\"].mean()\n",
    "df_test[\"bathrooms\"].fillna(value=mean_value2,inplace=True)\n",
    "mean_value3 = df_test[\"bedrooms\"].mean()\n",
    "df_test[\"bedrooms\"].fillna(value=mean_value3,inplace=True)\n",
    "df_test[\"l3\"].fillna(value=\"otro\",inplace=True)\n",
    "df_test[\"surface_covered\"] = df_test.apply(rellenar_metros,axis=1)\n",
    "\n",
    "mean_value4 = df_test[\"surface_covered\"].mean()\n",
    "df_test[\"surface_covered\"].fillna(value=mean_value4,inplace=True)\n",
    "\n",
    "df_test = df_test.drop([\"title\",\"description\"],axis=1)\n",
    "le = preprocessing.LabelEncoder()\n",
    "df_test[\"end_date\"] = le.fit_transform(df_test[\"end_date\"])\n",
    "df_test[\"l2\"] = le.fit_transform(df_test[\"l2\"])\n",
    "df_test[\"l3\"] = le.fit_transform(df_test[\"l3\"])\n",
    "df_test[\"property_type\"] = le.fit_transform(df_test[\"property_type\"])\n",
    "df_test = df_test.astype(int)\n",
    "\n",
    "\n"
   ]
  },
  {
   "cell_type": "code",
   "execution_count": 199,
   "metadata": {},
   "outputs": [],
   "source": [
    "# Le añadimos una columna \"target\" al dataframe de test para que alli el modelo realice las predicciones\n",
    "df_test[\"target\"] = \"\"\n"
   ]
  },
  {
   "cell_type": "code",
   "execution_count": 200,
   "metadata": {},
   "outputs": [],
   "source": [
    "#formateamos la columna target\n",
    "df_test[\"target\"] = df_test[\"target\"].dropna()\n",
    "df_test[\"target\"] = le.fit_transform(df_test[\"target\"])"
   ]
  },
  {
   "cell_type": "markdown",
   "metadata": {},
   "source": [
    "En la Parte nro 3 elegimos el modelo de prediccion que consideramos adecuado, y usando los datasets de entramiento y testeo que limpiamos anterior\n",
    "mente\n"
   ]
  },
  {
   "cell_type": "code",
   "execution_count": 201,
   "metadata": {},
   "outputs": [
    {
     "data": {
      "text/plain": [
       "0    57237\n",
       "1     8613\n",
       "Name: target, dtype: int64"
      ]
     },
     "execution_count": 201,
     "metadata": {},
     "output_type": "execute_result"
    }
   ],
   "source": [
    "#Elegimos como modelo de ML a un arbol de decisiones dado que es muy util en situacion de muchas variables categoricas donde \n",
    "#El resultado de la prediccione es Binario\n",
    "\n",
    "from sklearn.tree import DecisionTreeClassifier\n",
    "from sklearn.metrics import confusion_matrix\n",
    "\n",
    "#Definimos El modelo y elegimos como variables de entrenamiento  el dataset alojado en la variable \"df\" y como variables de testeo el alojado en\n",
    "# \"df_test\"\n",
    "\n",
    "model = DecisionTreeClassifier(max_depth=3)\n",
    "x_train = df.drop([\"target\"],axis=1)\n",
    "y_train = df[\"target\"]\n",
    "x_test = df_test.drop([\"target\"],axis=1)\n",
    "y_test = df_test[\"target\"]\n",
    "\n",
    "#Entrenamos el modelo y realizamos la prediccion\n",
    "\n",
    "model = model.fit(x_train,y_train)\n",
    "predicciones = model.predict(x_test)\n",
    "\n",
    "\n",
    "df_test[\"target\"] = predicciones\n",
    "df_test[\"target\"].value_counts()\n"
   ]
  },
  {
   "cell_type": "code",
   "execution_count": 202,
   "metadata": {},
   "outputs": [
    {
     "data": {
      "text/plain": [
       "0.8160962596621598"
      ]
     },
     "execution_count": 202,
     "metadata": {},
     "output_type": "execute_result"
    }
   ],
   "source": [
    "\n",
    "model.score(x_train,y_train)"
   ]
  },
  {
   "cell_type": "code",
   "execution_count": 203,
   "metadata": {},
   "outputs": [
    {
     "name": "stdout",
     "output_type": "stream",
     "text": [
      "       pred\n",
      "0         0\n",
      "1         0\n",
      "2         0\n",
      "3         0\n",
      "4         0\n",
      "...     ...\n",
      "65845     0\n",
      "65846     0\n",
      "65847     0\n",
      "65848     0\n",
      "65849     0\n",
      "\n",
      "[65850 rows x 1 columns]\n"
     ]
    }
   ],
   "source": [
    "#Creamos un Dataframe con la columna de predicciones\n",
    "\n",
    "pred = pd.DataFrame()\n",
    "pred[\"pred\"] = prediccion\n",
    "\n",
    "pred.to_csv(\"cybrexd.csv\",index=False)\n",
    "\n",
    "print(pred)"
   ]
  }
 ],
 "metadata": {
  "kernelspec": {
   "display_name": "Python 3.9.13 64-bit",
   "language": "python",
   "name": "python3"
  },
  "language_info": {
   "codemirror_mode": {
    "name": "ipython",
    "version": 3
   },
   "file_extension": ".py",
   "mimetype": "text/x-python",
   "name": "python",
   "nbconvert_exporter": "python",
   "pygments_lexer": "ipython3",
   "version": "3.9.13"
  },
  "orig_nbformat": 4,
  "vscode": {
   "interpreter": {
    "hash": "5c01e3f5d77c63006669fe213228f404fdc42846a61aa9016f2e2e142d4d5c26"
   }
  }
 },
 "nbformat": 4,
 "nbformat_minor": 2
}
